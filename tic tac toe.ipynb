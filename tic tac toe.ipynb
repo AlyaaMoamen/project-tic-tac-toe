{
 "cells": [
  {
   "cell_type": "code",
   "execution_count": 1,
   "id": "f4d4cdb0",
   "metadata": {},
   "outputs": [],
   "source": [
    "board = [['' for x in range(3)] for y in range(3)]"
   ]
  },
  {
   "cell_type": "code",
   "execution_count": 2,
   "id": "b6c95fc4",
   "metadata": {},
   "outputs": [],
   "source": [
    "def print_board(board):\n",
    "    for row in board:\n",
    "        print('| ' + ' | '.join(row) + ' |')"
   ]
  },
  {
   "cell_type": "code",
   "execution_count": 3,
   "id": "df4739a5",
   "metadata": {},
   "outputs": [],
   "source": [
    "def get_move(board, player):\n",
    "    while True:\n",
    "        row = int(input(\"Enter row (0, 1, or 2) for player \" + player + \": \"))\n",
    "        col = int(input(\"Enter column (0, 1, or 2) for player \" + player + \": \"))\n",
    "        if board[row][col] == '':\n",
    "            board[row][col] = player\n",
    "            break\n",
    "        else:\n",
    "            print(\"That space is already occupied!\")\n",
    "\n"
   ]
  },
  {
   "cell_type": "code",
   "execution_count": 4,
   "id": "08d120a9",
   "metadata": {},
   "outputs": [],
   "source": [
    "def check_win(board, player):\n",
    "    # check rows\n",
    "    for row in board:\n",
    "        if row.count(player) == 3:\n",
    "            return True\n",
    "    \n",
    "    # check columns\n",
    "    for i in range(3):\n",
    "        if board[0][i] == player and board[1][i] == player and board[2][i] == player:\n",
    "            return True\n",
    "\n",
    "    # check diagonals\n",
    "    if board[0][0] == player and board[1][1] == player and board[2][2] == player:\n",
    "        return True\n",
    "    if board[0][2] == player and board[1][1] == player and board[2][0] == player:\n",
    "        return True\n",
    "\n",
    "    return False"
   ]
  },
  {
   "cell_type": "code",
   "execution_count": 5,
   "id": "b6fe799a",
   "metadata": {},
   "outputs": [],
   "source": [
    "def check_tie(board):\n",
    "    for row in board:\n",
    "        if '' in row:\n",
    "            return False\n",
    "    \n",
    "    return True"
   ]
  },
  {
   "cell_type": "code",
   "execution_count": 6,
   "id": "bac25f09",
   "metadata": {},
   "outputs": [],
   "source": [
    "def play_game():\n",
    "    players = ['X', 'O']\n",
    "    current_player = players[0]\n",
    "    while True:\n",
    "        print_board(board)\n",
    "        get_move(board, current_player)\n",
    "        if check_win(board, current_player):\n",
    "            print(current_player + \" wins!\")\n",
    "            break\n",
    "        if check_tie(board):\n",
    "            print(\"It's a tie!\")\n",
    "            break\n",
    "        \n",
    "        current_player = players[0] if current_player == players[1] else players[1]"
   ]
  },
  {
   "cell_type": "code",
   "execution_count": 8,
   "id": "f4c2c639",
   "metadata": {},
   "outputs": [
    {
     "name": "stdout",
     "output_type": "stream",
     "text": [
      "|  |  | X |\n",
      "|  |  |  |\n",
      "|  |  |  |\n",
      "Enter row (0, 1, or 2) for player X: 1\n",
      "Enter column (0, 1, or 2) for player X: 2\n",
      "|  |  | X |\n",
      "|  |  | X |\n",
      "|  |  |  |\n",
      "Enter row (0, 1, or 2) for player O: 2\n",
      "Enter column (0, 1, or 2) for player O: 1\n",
      "|  |  | X |\n",
      "|  |  | X |\n",
      "|  | O |  |\n",
      "Enter row (0, 1, or 2) for player X: 2\n",
      "Enter column (0, 1, or 2) for player X: 2\n",
      "X wins!\n"
     ]
    }
   ],
   "source": [
    "play_game()"
   ]
  },
  {
   "cell_type": "code",
   "execution_count": null,
   "id": "4d9d088e",
   "metadata": {},
   "outputs": [],
   "source": []
  },
  {
   "cell_type": "code",
   "execution_count": null,
   "id": "9dbafee9",
   "metadata": {},
   "outputs": [],
   "source": []
  }
 ],
 "metadata": {
  "kernelspec": {
   "display_name": "Python 3",
   "language": "python",
   "name": "python3"
  },
  "language_info": {
   "codemirror_mode": {
    "name": "ipython",
    "version": 3
   },
   "file_extension": ".py",
   "mimetype": "text/x-python",
   "name": "python",
   "nbconvert_exporter": "python",
   "pygments_lexer": "ipython3",
   "version": "3.8.8"
  }
 },
 "nbformat": 4,
 "nbformat_minor": 5
}
